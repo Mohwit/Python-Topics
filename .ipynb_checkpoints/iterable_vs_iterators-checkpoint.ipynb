{
 "cells": [
  {
   "cell_type": "markdown",
   "id": "e1f3600c-b726-4a85-bddc-d6100f541c46",
   "metadata": {},
   "source": [
    "## Python List Iterables vs Iterators"
   ]
  },
  {
   "cell_type": "markdown",
   "id": "3c833354-85af-4974-bee5-a2faf8a8b653",
   "metadata": {},
   "source": [
    "* list are iterables"
   ]
  },
  {
   "cell_type": "code",
   "execution_count": 1,
   "id": "b48aa689-8b8a-489f-a7d7-98a69b016cfe",
   "metadata": {},
   "outputs": [],
   "source": [
    "## creating an dummy list\n",
    "lst = [1, 2, 3, 4, 5, 6, 7, 8]"
   ]
  },
  {
   "cell_type": "code",
   "execution_count": 2,
   "id": "316fa8d2-758a-43df-9755-99f1e310fab9",
   "metadata": {},
   "outputs": [
    {
     "name": "stdout",
     "output_type": "stream",
     "text": [
      "1\n",
      "2\n",
      "3\n",
      "4\n",
      "5\n",
      "6\n",
      "7\n",
      "8\n"
     ]
    }
   ],
   "source": [
    "## iterating over list to print values\n",
    "\n",
    "## when iterating, we basically iterate over the memory location\n",
    "for item in lst:\n",
    "    print(item)"
   ]
  },
  {
   "cell_type": "code",
   "execution_count": 3,
   "id": "90085958-9b8f-46d2-85cd-d4725aee4c8e",
   "metadata": {},
   "outputs": [
    {
     "data": {
      "text/plain": [
       "<list_iterator at 0x7fe20eef8e50>"
      ]
     },
     "execution_count": 3,
     "metadata": {},
     "output_type": "execute_result"
    }
   ],
   "source": [
    "## iter - in built function\n",
    "iter(lst)"
   ]
  },
  {
   "cell_type": "code",
   "execution_count": 4,
   "id": "eeb6b68b-beb2-4252-8ed6-e3bdddbf31f3",
   "metadata": {},
   "outputs": [
    {
     "data": {
      "text/plain": [
       "<list_iterator at 0x7fe20eef86d0>"
      ]
     },
     "execution_count": 4,
     "metadata": {},
     "output_type": "execute_result"
    }
   ],
   "source": [
    "## creating an iterator\n",
    "lst1 = iter(lst)\n",
    "lst1"
   ]
  },
  {
   "cell_type": "code",
   "execution_count": 5,
   "id": "61361427-1f80-4914-a82d-8a560d11066d",
   "metadata": {},
   "outputs": [
    {
     "data": {
      "text/plain": [
       "1"
      ]
     },
     "execution_count": 5,
     "metadata": {},
     "output_type": "execute_result"
    }
   ],
   "source": [
    "## the values are stored in the memory only when next function is used\n",
    "next(lst1)"
   ]
  },
  {
   "cell_type": "markdown",
   "id": "57f649af-3116-4240-bb41-d3553f998676",
   "metadata": {},
   "source": [
    "* whereas, in case of list whole value get initialized in memory as soon as list is created "
   ]
  },
  {
   "cell_type": "markdown",
   "id": "39ef91da-8071-4fe7-a440-b88cca0d9ddf",
   "metadata": {},
   "source": [
    "* In case of iterator, only one element is getting initialized at a time (i,e when next function is used)"
   ]
  },
  {
   "cell_type": "code",
   "execution_count": 6,
   "id": "42eefce8-445a-490f-87c5-b09b1f0523b5",
   "metadata": {},
   "outputs": [
    {
     "name": "stdout",
     "output_type": "stream",
     "text": [
      "2\n",
      "3\n",
      "4\n",
      "5\n",
      "6\n",
      "7\n",
      "8\n"
     ]
    }
   ],
   "source": [
    "## retrieve element using loop\n",
    "for itr in lst1:\n",
    "    print(itr)"
   ]
  },
  {
   "cell_type": "markdown",
   "id": "209cdfd0-ccd1-401d-b972-8b50efdb1bea",
   "metadata": {},
   "source": [
    "Why to use an iterator\n",
    "* memory efficient\n",
    "* can be retrieve using a for loop\n",
    "* for loop already handle the stop iteration exception"
   ]
  }
 ],
 "metadata": {
  "kernelspec": {
   "display_name": "Python 3 (ipykernel)",
   "language": "python",
   "name": "python3"
  },
  "language_info": {
   "codemirror_mode": {
    "name": "ipython",
    "version": 3
   },
   "file_extension": ".py",
   "mimetype": "text/x-python",
   "name": "python",
   "nbconvert_exporter": "python",
   "pygments_lexer": "ipython3",
   "version": "3.11.0"
  }
 },
 "nbformat": 4,
 "nbformat_minor": 5
}
