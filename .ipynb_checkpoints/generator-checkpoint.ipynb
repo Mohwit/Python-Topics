{
 "cells": [
  {
   "cell_type": "markdown",
   "id": "51677338",
   "metadata": {},
   "source": [
    "## Python Generators Vs Iterators"
   ]
  },
  {
   "cell_type": "markdown",
   "id": "d5340bad",
   "metadata": {},
   "source": [
    "Python Generators are the functions that return the traversal object and used to create iterators. It traverses the entire items at once. The generator can also be an expression in which syntax is similar to the list comprehension in Python."
   ]
  },
  {
   "cell_type": "code",
   "execution_count": 1,
   "id": "74582831",
   "metadata": {},
   "outputs": [
    {
     "name": "stdout",
     "output_type": "stream",
     "text": [
      "12456"
     ]
    }
   ],
   "source": [
    "## iterable \n",
    "lst = [1, 2, 4, 5, 6]\n",
    "\n",
    "for i in lst:\n",
    "    print(i, end=\"\")"
   ]
  },
  {
   "cell_type": "code",
   "execution_count": 9,
   "id": "f29a0dae",
   "metadata": {},
   "outputs": [],
   "source": [
    "## iterator\n",
    "iterator = iter(lst)"
   ]
  },
  {
   "cell_type": "code",
   "execution_count": 6,
   "id": "a68aaf4b",
   "metadata": {},
   "outputs": [],
   "source": [
    "## we can iterate throught iterator\n",
    "for i in iterator:\n",
    "    print(i, end=\"\")\n",
    "    "
   ]
  },
  {
   "cell_type": "code",
   "execution_count": 4,
   "id": "9cf90b53",
   "metadata": {},
   "outputs": [
    {
     "data": {
      "text/plain": [
       "list_iterator"
      ]
     },
     "execution_count": 4,
     "metadata": {},
     "output_type": "execute_result"
    }
   ],
   "source": [
    "## checking type\n",
    "type(iterator)"
   ]
  },
  {
   "cell_type": "code",
   "execution_count": 10,
   "id": "ea8e38d4",
   "metadata": {},
   "outputs": [
    {
     "data": {
      "text/plain": [
       "1"
      ]
     },
     "execution_count": 10,
     "metadata": {},
     "output_type": "execute_result"
    }
   ],
   "source": [
    "## using next\n",
    "next(iterator)"
   ]
  },
  {
   "cell_type": "code",
   "execution_count": null,
   "id": "4fc22dd2",
   "metadata": {},
   "outputs": [],
   "source": [
    "next(iterator)"
   ]
  },
  {
   "cell_type": "code",
   "execution_count": null,
   "id": "9911fb8e",
   "metadata": {},
   "outputs": [],
   "source": [
    "## Generator\n",
    "def square(n):\n",
    "    for i in range(n):\n",
    "        yield i**2"
   ]
  },
  {
   "cell_type": "code",
   "execution_count": null,
   "id": "788584c7",
   "metadata": {},
   "outputs": [],
   "source": [
    "for i in square(3):\n",
    "    print(i)"
   ]
  },
  {
   "cell_type": "code",
   "execution_count": null,
   "id": "b5b5633c",
   "metadata": {},
   "outputs": [],
   "source": [
    "a = square(3)"
   ]
  },
  {
   "cell_type": "code",
   "execution_count": null,
   "id": "cb897ed4",
   "metadata": {},
   "outputs": [],
   "source": [
    "next(a)"
   ]
  },
  {
   "cell_type": "code",
   "execution_count": null,
   "id": "48caa849",
   "metadata": {},
   "outputs": [],
   "source": [
    "next(a)"
   ]
  },
  {
   "cell_type": "code",
   "execution_count": null,
   "id": "5257a166",
   "metadata": {},
   "outputs": [],
   "source": [
    "next(a)"
   ]
  },
  {
   "cell_type": "markdown",
   "id": "ce6a0466",
   "metadata": {},
   "source": [
    "Differece\n",
    "\n",
    "* To create iterator we use iter() function, and to create the generator we use function along with yield keyword\n",
    "\n",
    "* Generator uses the yield keyword, It saves the local variable\n",
    "\n",
    "* Generator in python helps us top write fast and compact code.\n",
    "\n",
    "* Python iterator is much more memory efficient."
   ]
  }
 ],
 "metadata": {
  "kernelspec": {
   "display_name": "Python 3 (ipykernel)",
   "language": "python",
   "name": "python3"
  },
  "language_info": {
   "codemirror_mode": {
    "name": "ipython",
    "version": 3
   },
   "file_extension": ".py",
   "mimetype": "text/x-python",
   "name": "python",
   "nbconvert_exporter": "python",
   "pygments_lexer": "ipython3",
   "version": "3.11.0"
  }
 },
 "nbformat": 4,
 "nbformat_minor": 5
}
