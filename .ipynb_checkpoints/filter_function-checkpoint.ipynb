{
 "cells": [
  {
   "cell_type": "markdown",
   "id": "8e5168b2-bbe6-4f55-938a-78c918f50c5e",
   "metadata": {},
   "source": [
    "## Filter function"
   ]
  },
  {
   "cell_type": "markdown",
   "id": "a2456413-44bc-4956-a48a-a592535654e0",
   "metadata": {},
   "source": [
    "* The filter() method filters the given sequence with the help of a function that tests each element in the sequence to be true or not.\n",
    "* Synatx: filter(function, sequence)\n",
    "\n",
    "**Parameter**\n",
    "1. function: function that tests if each element of a sequence true or not.\n",
    "2. sequence: sequence which needs to be filtered, it can be sets, lists, tuples, or containers of any iterators.\n",
    "\n",
    "**Returns:**\n",
    "returns an iterator that is already filtered."
   ]
  },
  {
   "cell_type": "code",
   "execution_count": 4,
   "id": "72c7cf73-929f-4981-acf1-9a2c3f052b61",
   "metadata": {},
   "outputs": [],
   "source": [
    "## simple function\n",
    "def even(num):\n",
    "    if num % 2 ==0:\n",
    "        return True"
   ]
  },
  {
   "cell_type": "code",
   "execution_count": 2,
   "id": "019f1b02-e3d7-4587-bbb9-37e16449a22c",
   "metadata": {},
   "outputs": [],
   "source": [
    "lst = [1, 2, 3, 4, 5, 6, 7, 8, 8, 10]"
   ]
  },
  {
   "cell_type": "code",
   "execution_count": 5,
   "id": "578e977a-1495-45d7-a5c2-865b413c3945",
   "metadata": {},
   "outputs": [
    {
     "data": {
      "text/plain": [
       "[2, 4, 6, 8, 8, 10]"
      ]
     },
     "execution_count": 5,
     "metadata": {},
     "output_type": "execute_result"
    }
   ],
   "source": [
    "list(filter(even, lst))"
   ]
  },
  {
   "cell_type": "code",
   "execution_count": 7,
   "id": "5e4ada28-9ffd-40fb-95db-8acefea72a2e",
   "metadata": {},
   "outputs": [
    {
     "data": {
      "text/plain": [
       "[2, 4, 6, 8, 8, 10]"
      ]
     },
     "execution_count": 7,
     "metadata": {},
     "output_type": "execute_result"
    }
   ],
   "source": [
    "list(filter(lambda num:num%2 == 0, lst))"
   ]
  }
 ],
 "metadata": {
  "kernelspec": {
   "display_name": "Python 3 (ipykernel)",
   "language": "python",
   "name": "python3"
  },
  "language_info": {
   "codemirror_mode": {
    "name": "ipython",
    "version": 3
   },
   "file_extension": ".py",
   "mimetype": "text/x-python",
   "name": "python",
   "nbconvert_exporter": "python",
   "pygments_lexer": "ipython3",
   "version": "3.11.0"
  }
 },
 "nbformat": 4,
 "nbformat_minor": 5
}
