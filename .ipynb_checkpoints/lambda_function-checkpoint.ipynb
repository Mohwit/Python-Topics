{
 "cells": [
  {
   "cell_type": "markdown",
   "id": "e5afc684-a0fe-4e0f-a228-cbfd06a86d53",
   "metadata": {},
   "source": [
    "## Lambda function"
   ]
  },
  {
   "cell_type": "markdown",
   "id": "487a1584-d6c8-46a5-bd5f-da22a4245598",
   "metadata": {},
   "source": [
    "* A lambda function is a small anonymous function.\n",
    "\n",
    "* A lambda function can take any number of arguments, but can only have one expression."
   ]
  },
  {
   "cell_type": "code",
   "execution_count": 1,
   "id": "f23ab172-0b71-4cfa-88b1-660a2fce4896",
   "metadata": {},
   "outputs": [],
   "source": [
    "## creating an simple addition function\n",
    "def addition(num1, num2):\n",
    "    return num1 + num2"
   ]
  },
  {
   "cell_type": "code",
   "execution_count": 2,
   "id": "0b4f613e-1581-42e2-bc67-56dfb98e9e6e",
   "metadata": {},
   "outputs": [
    {
     "data": {
      "text/plain": [
       "9"
      ]
     },
     "execution_count": 2,
     "metadata": {},
     "output_type": "execute_result"
    }
   ],
   "source": [
    "addition(4, 5)"
   ]
  },
  {
   "cell_type": "markdown",
   "id": "0b6037c3-e6b3-4e55-ab9c-bbe57fc61d0c",
   "metadata": {},
   "source": [
    "* SYNTAX:- lambda arguments : expression"
   ]
  },
  {
   "cell_type": "code",
   "execution_count": 3,
   "id": "b1b97ba6-f4b6-4651-b7cf-9b476e870bb5",
   "metadata": {},
   "outputs": [],
   "source": [
    "## lambda function\n",
    "## uses 'lambda' keyword\n",
    "add = lambda a,b : a+b"
   ]
  },
  {
   "cell_type": "code",
   "execution_count": 4,
   "id": "1fb976ba-5d0b-438b-a993-e2e69247f410",
   "metadata": {},
   "outputs": [
    {
     "data": {
      "text/plain": [
       "16"
      ]
     },
     "execution_count": 4,
     "metadata": {},
     "output_type": "execute_result"
    }
   ],
   "source": [
    "add(12, 4)"
   ]
  },
  {
   "cell_type": "code",
   "execution_count": 5,
   "id": "88b58137-96a5-4182-b5b9-4a0c47fbaec1",
   "metadata": {},
   "outputs": [],
   "source": [
    "def even(num):\n",
    "    if num % 2 == 0:\n",
    "        return True"
   ]
  },
  {
   "cell_type": "code",
   "execution_count": 6,
   "id": "f0ee1b6a-7649-47f3-b1af-a39b5300f58c",
   "metadata": {},
   "outputs": [
    {
     "data": {
      "text/plain": [
       "True"
      ]
     },
     "execution_count": 6,
     "metadata": {},
     "output_type": "execute_result"
    }
   ],
   "source": [
    "even(50)"
   ]
  },
  {
   "cell_type": "code",
   "execution_count": 7,
   "id": "e6417bf4-fe4c-43c0-a43d-5fd79f18145e",
   "metadata": {},
   "outputs": [],
   "source": [
    "even = lambda num : num % 2 == 0"
   ]
  },
  {
   "cell_type": "code",
   "execution_count": 8,
   "id": "73c1e4ad-f2e0-4b78-a1b1-a9f266ee80b1",
   "metadata": {},
   "outputs": [
    {
     "data": {
      "text/plain": [
       "True"
      ]
     },
     "execution_count": 8,
     "metadata": {},
     "output_type": "execute_result"
    }
   ],
   "source": [
    "even(12)"
   ]
  },
  {
   "cell_type": "markdown",
   "id": "54f05f05-f27e-41bb-8ce1-d62860298a37",
   "metadata": {},
   "source": [
    "It can take any number of parameter"
   ]
  },
  {
   "cell_type": "code",
   "execution_count": 9,
   "id": "e7dbb829-22aa-4a69-8e2e-e1a523efc56f",
   "metadata": {},
   "outputs": [],
   "source": [
    "add = lambda a, b, c, d : a+b+c+d"
   ]
  },
  {
   "cell_type": "code",
   "execution_count": 10,
   "id": "a14aced8-45c0-43a2-88c3-05d69da8ed21",
   "metadata": {},
   "outputs": [
    {
     "data": {
      "text/plain": [
       "10"
      ]
     },
     "execution_count": 10,
     "metadata": {},
     "output_type": "execute_result"
    }
   ],
   "source": [
    "add(1, 2, 3, 4)"
   ]
  },
  {
   "cell_type": "code",
   "execution_count": 11,
   "id": "905a7fcb-29e9-4482-9cec-e4d59bec1586",
   "metadata": {},
   "outputs": [],
   "source": [
    "greet = lambda name : \"Hey \" + name + \"!\""
   ]
  },
  {
   "cell_type": "code",
   "execution_count": 12,
   "id": "c4b5ee81-8f2c-4686-8ec7-f9b09dc4974d",
   "metadata": {},
   "outputs": [
    {
     "data": {
      "text/plain": [
       "'Hey Mark!'"
      ]
     },
     "execution_count": 12,
     "metadata": {},
     "output_type": "execute_result"
    }
   ],
   "source": [
    "greet(\"Mark\")"
   ]
  }
 ],
 "metadata": {
  "kernelspec": {
   "display_name": "Python 3 (ipykernel)",
   "language": "python",
   "name": "python3"
  },
  "language_info": {
   "codemirror_mode": {
    "name": "ipython",
    "version": 3
   },
   "file_extension": ".py",
   "mimetype": "text/x-python",
   "name": "python",
   "nbconvert_exporter": "python",
   "pygments_lexer": "ipython3",
   "version": "3.11.0"
  }
 },
 "nbformat": 4,
 "nbformat_minor": 5
}
