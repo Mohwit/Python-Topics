{
 "cells": [
  {
   "cell_type": "markdown",
   "id": "0b6827ac-b0c4-403a-91c1-0f16409a1844",
   "metadata": {},
   "source": [
    "## List Comprehension"
   ]
  },
  {
   "cell_type": "markdown",
   "id": "f1782b41-71b1-49bf-986d-5415758cf4ad",
   "metadata": {},
   "source": [
    "List comprehensions provide a concise way to create lists. It consists og brackets containing an expression followed by a for clause, then zero or more for or if clauses. The expressions can be anything, meaning you can put in all kinds of objects in lists."
   ]
  },
  {
   "cell_type": "code",
   "execution_count": 1,
   "id": "5d4300c9-6a65-4c13-8879-8ab7bea4a90a",
   "metadata": {},
   "outputs": [],
   "source": [
    "lst = []\n",
    "## a simple function to return square of all element in list\n",
    "def lst_square(ls):\n",
    "    for item in ls:\n",
    "        lst.append(item*item)\n",
    "    return lst"
   ]
  },
  {
   "cell_type": "code",
   "execution_count": 2,
   "id": "739ab830-b5d6-44c2-a975-94e54f0dace4",
   "metadata": {},
   "outputs": [
    {
     "data": {
      "text/plain": [
       "[1, 4, 9, 16, 25]"
      ]
     },
     "execution_count": 2,
     "metadata": {},
     "output_type": "execute_result"
    }
   ],
   "source": [
    "## calling function \n",
    "lst_square([1, 2, 3, 4, 5])"
   ]
  },
  {
   "cell_type": "markdown",
   "id": "d517e4bd-f34b-4bb8-b2e4-a036b45d5079",
   "metadata": {},
   "source": [
    "List comprehension to so the same"
   ]
  },
  {
   "cell_type": "code",
   "execution_count": 3,
   "id": "09610aa5-d9e5-4660-83cf-e315bddece07",
   "metadata": {},
   "outputs": [],
   "source": [
    "squared = [i*i for i in lst]"
   ]
  },
  {
   "cell_type": "code",
   "execution_count": 4,
   "id": "b53e2d5e-9e6c-4400-9af0-2f25555b959f",
   "metadata": {},
   "outputs": [
    {
     "name": "stdout",
     "output_type": "stream",
     "text": [
      "[1, 16, 81, 256, 625]\n"
     ]
    }
   ],
   "source": [
    "print(squared)"
   ]
  },
  {
   "cell_type": "markdown",
   "id": "fa0a87c3-0539-4668-b7ce-b423b6140777",
   "metadata": {},
   "source": [
    "List comprehension to compute square of even number "
   ]
  },
  {
   "cell_type": "code",
   "execution_count": 5,
   "id": "6342dd52-392a-419d-8687-196b88a1e55d",
   "metadata": {},
   "outputs": [],
   "source": [
    "even_squared = [i*i for i in lst if i%2 == 0]"
   ]
  },
  {
   "cell_type": "code",
   "execution_count": 6,
   "id": "81aac313-d117-4c5a-93ac-7978cd9aac4f",
   "metadata": {},
   "outputs": [
    {
     "name": "stdout",
     "output_type": "stream",
     "text": [
      "[16, 256]\n"
     ]
    }
   ],
   "source": [
    "print(even_squared)"
   ]
  }
 ],
 "metadata": {
  "kernelspec": {
   "display_name": "Python 3 (ipykernel)",
   "language": "python",
   "name": "python3"
  },
  "language_info": {
   "codemirror_mode": {
    "name": "ipython",
    "version": 3
   },
   "file_extension": ".py",
   "mimetype": "text/x-python",
   "name": "python",
   "nbconvert_exporter": "python",
   "pygments_lexer": "ipython3",
   "version": "3.11.0"
  }
 },
 "nbformat": 4,
 "nbformat_minor": 5
}
