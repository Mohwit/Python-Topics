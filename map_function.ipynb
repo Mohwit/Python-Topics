{
 "cells": [
  {
   "cell_type": "markdown",
   "id": "17491713-8563-4cb9-aaec-8daf584313e5",
   "metadata": {},
   "source": [
    "## Map function"
   ]
  },
  {
   "cell_type": "markdown",
   "id": "a81988f1-fc9a-4e3f-a351-f786afad5a6b",
   "metadata": {},
   "source": [
    "* map() function returns a map object(which is an iterator) of the results after applying the given function to each item of a given iterable (list, tuple etc.)\n",
    "\n",
    "* Syntax: map(function, iter) </br> \n",
    "1. function : It is a function to which map passes each element of given iterable.\n",
    "2. iter : It is a iterable which is to be mapped.\n",
    "3. We can pass more iterable to the map() function."
   ]
  },
  {
   "cell_type": "code",
   "execution_count": 1,
   "id": "6eee7f81-2a56-445d-8e2e-8df564961810",
   "metadata": {},
   "outputs": [],
   "source": [
    "## a simple function\n",
    "def even_or_odd(num):\n",
    "    if num%2 == 0:\n",
    "        return \"The number {} is Even\".format(num)\n",
    "    else:\n",
    "        return \"The number {} is Odd\".format(num)"
   ]
  },
  {
   "cell_type": "code",
   "execution_count": 2,
   "id": "3f2525fb-57ae-4a9d-8bb6-4000a695824e",
   "metadata": {},
   "outputs": [
    {
     "data": {
      "text/plain": [
       "'The number 24 is Even'"
      ]
     },
     "execution_count": 2,
     "metadata": {},
     "output_type": "execute_result"
    }
   ],
   "source": [
    "even_or_odd(24)"
   ]
  },
  {
   "cell_type": "code",
   "execution_count": 3,
   "id": "8c6812bd-1f83-44d3-8415-90d90cdaa2cd",
   "metadata": {},
   "outputs": [],
   "source": [
    "## iterable for map function\n",
    "lst = [1, 2, 3, 4, 5, 6, 7, 8]"
   ]
  },
  {
   "cell_type": "code",
   "execution_count": 4,
   "id": "1dcf4e34-b6de-4d4e-8468-fa901869705f",
   "metadata": {},
   "outputs": [
    {
     "data": {
      "text/plain": [
       "['The number 1 is Odd',\n",
       " 'The number 2 is Even',\n",
       " 'The number 3 is Odd',\n",
       " 'The number 4 is Even',\n",
       " 'The number 5 is Odd',\n",
       " 'The number 6 is Even',\n",
       " 'The number 7 is Odd',\n",
       " 'The number 8 is Even']"
      ]
     },
     "execution_count": 4,
     "metadata": {},
     "output_type": "execute_result"
    }
   ],
   "source": [
    "## map function\n",
    "list(map(even_or_odd, lst))"
   ]
  },
  {
   "cell_type": "code",
   "execution_count": 5,
   "id": "72ffedff-5913-4e62-b6be-6148f7f6016a",
   "metadata": {},
   "outputs": [],
   "source": [
    "## using lambda function with map function\n",
    "num1 = [1, 2, 4]\n",
    "num2 = [5, 6, 7]\n",
    "\n",
    "res = map(lambda x, y : x + y, num1, num2)"
   ]
  },
  {
   "cell_type": "code",
   "execution_count": 6,
   "id": "5b787d0f-7885-435d-92bd-efdfb2fa9122",
   "metadata": {},
   "outputs": [
    {
     "name": "stdout",
     "output_type": "stream",
     "text": [
      "[6, 8, 11]\n"
     ]
    }
   ],
   "source": [
    "## printing the result\n",
    "print(list(res))"
   ]
  },
  {
   "cell_type": "code",
   "execution_count": 7,
   "id": "6121596e-3b42-474e-bd38-b7d9c035eba8",
   "metadata": {},
   "outputs": [
    {
     "name": "stdout",
     "output_type": "stream",
     "text": [
      "[['s', 'a', 't'], ['b', 'a', 't'], ['c', 'a', 't'], ['m', 'a', 't']]\n"
     ]
    }
   ],
   "source": [
    "# List of strings\n",
    "l = ['sat', 'bat', 'cat', 'mat']\n",
    "\n",
    "# map() can listify the list of strings individually\n",
    "test = list(map(list, l))\n",
    "print(test)"
   ]
  }
 ],
 "metadata": {
  "kernelspec": {
   "display_name": "Python 3 (ipykernel)",
   "language": "python",
   "name": "python3"
  },
  "language_info": {
   "codemirror_mode": {
    "name": "ipython",
    "version": 3
   },
   "file_extension": ".py",
   "mimetype": "text/x-python",
   "name": "python",
   "nbconvert_exporter": "python",
   "pygments_lexer": "ipython3",
   "version": "3.11.0"
  }
 },
 "nbformat": 4,
 "nbformat_minor": 5
}
